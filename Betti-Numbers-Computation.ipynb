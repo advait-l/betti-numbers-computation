{
 "cells": [
  {
   "cell_type": "markdown",
   "id": "08b181ee",
   "metadata": {},
   "source": [
    "# Simplex Tree"
   ]
  },
  {
   "cell_type": "code",
   "execution_count": 1,
   "id": "50fcb94f",
   "metadata": {},
   "outputs": [],
   "source": [
    "import gudhi as gd"
   ]
  },
  {
   "cell_type": "code",
   "execution_count": 2,
   "id": "ba18e0cd",
   "metadata": {},
   "outputs": [],
   "source": [
    "st = gd.SimplexTree()"
   ]
  },
  {
   "cell_type": "markdown",
   "id": "250db596",
   "metadata": {},
   "source": [
    "The `st` object has class `SimplexTree`. For now, `st` is an empty simplex tree.\n",
    "\n",
    "The `SimplexTree` class has several useful methods for the practice of TDA. For instance, there are methods to define new types of simplicial complexes from existing ones.\n",
    "\n",
    "The `insert()` method can be used to insert simplices in the simplex tree. In the simplex tree:\n",
    "\n",
    "- vertices (0-dimensional simplices) are represented with integers, \n",
    "- edges (1-dimensional simplices) are represented with a length-2 list of integers (corresponding to the two vertices involved in the edge),\n",
    "- triangles (2-dimensional simplices) by three integers are represented with a length-3 list of integers (corresponding to the three vertices involved in the triangle),\n",
    "- etc."
   ]
  },
  {
   "cell_type": "code",
   "execution_count": 3,
   "id": "aa0379dd",
   "metadata": {},
   "outputs": [
    {
     "data": {
      "text/plain": [
       "True"
      ]
     },
     "execution_count": 3,
     "metadata": {},
     "output_type": "execute_result"
    }
   ],
   "source": [
    "st.insert([0, 1])\n",
    "st.insert([1, 3], filtration = 0.5)"
   ]
  },
  {
   "cell_type": "code",
   "execution_count": 4,
   "id": "b2907e08",
   "metadata": {},
   "outputs": [
    {
     "data": {
      "text/plain": [
       "True"
      ]
     },
     "execution_count": 4,
     "metadata": {},
     "output_type": "execute_result"
    }
   ],
   "source": [
    "st.insert([0, 1, 2])"
   ]
  },
  {
   "cell_type": "code",
   "execution_count": 5,
   "id": "05fb3c58",
   "metadata": {},
   "outputs": [
    {
     "data": {
      "text/plain": [
       "True"
      ]
     },
     "execution_count": 5,
     "metadata": {},
     "output_type": "execute_result"
    }
   ],
   "source": [
    "st.insert([0, 3], filtration = 1.0)"
   ]
  },
  {
   "cell_type": "code",
   "execution_count": 6,
   "id": "3800d4d4",
   "metadata": {},
   "outputs": [
    {
     "name": "stdout",
     "output_type": "stream",
     "text": [
      "([0, 1, 2], 0.0)\n",
      "([0, 1], 0.0)\n",
      "([0, 2], 0.0)\n",
      "([0, 3], 1.0)\n",
      "([0], 0.0)\n",
      "([1, 2], 0.0)\n",
      "([1, 3], 0.5)\n",
      "([1], 0.0)\n",
      "([2], 0.0)\n",
      "([3], 0.5)\n"
     ]
    }
   ],
   "source": [
    "simplices = st.get_simplices()\n",
    "for simplex in simplices:\n",
    "    print(simplex)"
   ]
  },
  {
   "cell_type": "markdown",
   "id": "b3e1c6f3",
   "metadata": {},
   "source": [
    "## Betti Numbers for a simplex tree\n",
    "The `betti_numbers()` method can be used to compute the betti numbers of the simplicial complex.\n",
    "\n",
    "But for that the `compute_persistence()` method needs to be active."
   ]
  },
  {
   "cell_type": "code",
   "execution_count": 7,
   "id": "8b19cc82",
   "metadata": {},
   "outputs": [
    {
     "data": {
      "text/plain": [
       "[1, 1]"
      ]
     },
     "execution_count": 7,
     "metadata": {},
     "output_type": "execute_result"
    }
   ],
   "source": [
    "st.compute_persistence()\n",
    "st.betti_numbers()"
   ]
  },
  {
   "cell_type": "markdown",
   "id": "252f15bb",
   "metadata": {},
   "source": [
    "# Building simplicial complexes from a point cloud"
   ]
  },
  {
   "cell_type": "code",
   "execution_count": 8,
   "id": "c50bf8ce",
   "metadata": {},
   "outputs": [],
   "source": [
    "import numpy as np\n",
    "import pickle as pickle\n",
    "from pylab import *\n",
    "from mpl_toolkits.mplot3d import Axes3D\n",
    "%matplotlib inline"
   ]
  },
  {
   "cell_type": "markdown",
   "id": "ecac0549",
   "metadata": {},
   "source": [
    "The walk of 3 persons A, B and C, has been recorded using the accelerometer sensor of a smartphone in their pocket, giving rise to 3 multivariate time series in $\\mathbb R ^d$: each time series represents the 3 coordinates of the acceleration of the corresponding walker in a coordinate system attached to the sensor. \n",
    "\n",
    "Notice that the smartphone was carried in a possibly different position for each person and thus these time series cannot be compared coordinates by coordinates.\n",
    "\n",
    "Using a sliding window, each serie have been splitted in a list of 100 times series made of 200 consecutive points, that are stored in `data_A`, `data_B` and `data_C`.\n",
    "\n",
    "We load the data with the pickle module :"
   ]
  },
  {
   "cell_type": "code",
   "execution_count": 9,
   "id": "3a4d6ce4",
   "metadata": {},
   "outputs": [],
   "source": [
    "f = open(\"./datasets/data_acc\",\"rb\")\n",
    "data = pickle.load(f)    \n",
    "f.close()"
   ]
  },
  {
   "cell_type": "code",
   "execution_count": 10,
   "id": "d144cdd0",
   "metadata": {
    "scrolled": true
   },
   "outputs": [
    {
     "name": "stdout",
     "output_type": "stream",
     "text": [
      "['A' 'A' 'A' 'A' 'A' 'A' 'A' 'A' 'A' 'A' 'A' 'A' 'A' 'A' 'A' 'A' 'A' 'A'\n",
      " 'A' 'A' 'A' 'A' 'A' 'A' 'A' 'A' 'A' 'A' 'A' 'A' 'A' 'A' 'A' 'A' 'A' 'A'\n",
      " 'A' 'A' 'A' 'A' 'A' 'A' 'A' 'A' 'A' 'A' 'A' 'A' 'A' 'A' 'A' 'A' 'A' 'A'\n",
      " 'A' 'A' 'A' 'A' 'A' 'A' 'A' 'A' 'A' 'A' 'A' 'A' 'A' 'A' 'A' 'A' 'A' 'A'\n",
      " 'A' 'A' 'A' 'A' 'A' 'A' 'A' 'A' 'A' 'A' 'A' 'A' 'A' 'A' 'A' 'A' 'A' 'A'\n",
      " 'A' 'A' 'A' 'A' 'A' 'A' 'A' 'A' 'A' 'A' 'B' 'B' 'B' 'B' 'B' 'B' 'B' 'B'\n",
      " 'B' 'B' 'B' 'B' 'B' 'B' 'B' 'B' 'B' 'B' 'B' 'B' 'B' 'B' 'B' 'B' 'B' 'B'\n",
      " 'B' 'B' 'B' 'B' 'B' 'B' 'B' 'B' 'B' 'B' 'B' 'B' 'B' 'B' 'B' 'B' 'B' 'B'\n",
      " 'B' 'B' 'B' 'B' 'B' 'B' 'B' 'B' 'B' 'B' 'B' 'B' 'B' 'B' 'B' 'B' 'B' 'B'\n",
      " 'B' 'B' 'B' 'B' 'B' 'B' 'B' 'B' 'B' 'B' 'B' 'B' 'B' 'B' 'B' 'B' 'B' 'B'\n",
      " 'B' 'B' 'B' 'B' 'B' 'B' 'B' 'B' 'B' 'B' 'B' 'B' 'B' 'B' 'B' 'B' 'B' 'B'\n",
      " 'B' 'B' 'C' 'C' 'C' 'C' 'C' 'C' 'C' 'C' 'C' 'C' 'C' 'C' 'C' 'C' 'C' 'C'\n",
      " 'C' 'C' 'C' 'C' 'C' 'C' 'C' 'C' 'C' 'C' 'C' 'C' 'C' 'C' 'C' 'C' 'C' 'C'\n",
      " 'C' 'C' 'C' 'C' 'C' 'C' 'C' 'C' 'C' 'C' 'C' 'C' 'C' 'C' 'C' 'C' 'C' 'C'\n",
      " 'C' 'C' 'C' 'C' 'C' 'C' 'C' 'C' 'C' 'C' 'C' 'C' 'C' 'C' 'C' 'C' 'C' 'C'\n",
      " 'C' 'C' 'C' 'C' 'C' 'C' 'C' 'C' 'C' 'C' 'C' 'C' 'C' 'C' 'C' 'C' 'C' 'C'\n",
      " 'C' 'C' 'C' 'C' 'C' 'C' 'C' 'C' 'C' 'C' 'C' 'C']\n"
     ]
    }
   ],
   "source": [
    "data_A = data[0]\n",
    "data_B = data[1] \n",
    "data_C = data[2]\n",
    "label  = data[3]\n",
    "print(label)"
   ]
  },
  {
   "cell_type": "code",
   "execution_count": 11,
   "id": "982c556e",
   "metadata": {},
   "outputs": [
    {
     "data": {
      "text/plain": [
       "(100, 200, 3)"
      ]
     },
     "execution_count": 11,
     "metadata": {},
     "output_type": "execute_result"
    }
   ],
   "source": [
    "np.shape(data_A)"
   ]
  },
  {
   "cell_type": "markdown",
   "id": "51a351f6",
   "metadata": {},
   "source": [
    "The object <code>data_A</code> is a list of 100 time series of the 3d acceleration for Walker A, let's have a look at the dimensions of <code>data_A</code>:\n",
    "\n",
    "We now represent the trajectory of accelerations for the first trajectory of walker A :"
   ]
  },
  {
   "cell_type": "code",
   "execution_count": 12,
   "id": "5b6aefd0",
   "metadata": {},
   "outputs": [
    {
     "data": {
      "image/png": "[encoded data removed]",
      "text/plain": [
       "<Figure size 432x288 with 1 Axes>"
      ]
     },
     "metadata": {
      "needs_background": "light"
     },
     "output_type": "display_data"
    }
   ],
   "source": [
    "data_A_sample = data_A[0]\n",
    "fig = plt.figure()\n",
    "plt.rcParams['figure.figsize'] = [12, 12]\n",
    "ax = fig.add_subplot(111, projection = '3d')\n",
    "ax.scatter(data_A_sample[:, 0], data_A_sample[:, 1], data_A_sample[:, 2]);"
   ]
  },
  {
   "cell_type": "markdown",
   "id": "76bb0a1b",
   "metadata": {},
   "source": [
    "## Vietoris-Rips complex\n",
    "\n",
    "\n",
    "The [$\\alpha$-Rips complex](https://en.wikipedia.org/wiki/Vietoris%E2%80%93Rips_complex) of a point cloud $\\mathbb X$ in $(\\mathbb R^d,\\| \\|_2)$  is an [abstract simplicial complex](https://en.wikipedia.org/wiki/Abstract_simplicial_complex) that can be defined  by forming a simplex for every finite subset of $\\mathbb X$ that has diameter at most $\\alpha$. \n",
    "\n",
    "Vietoris-Rips complexes can be defined for any metric space from the  matrix of pairwise distances (see this [notebook](https://github.com/GUDHI/TDA-tutorial/blob/master/Tuto-GUDHI-simplicial-complexes-from-distance-matrix.ipynb)).\n",
    "\n",
    "In order to efficiently compute an $\\alpha$-Rips complex, one can start by building a topological graph with:\n",
    "\n",
    "- as many vertices as there are points; and,\n",
    "- as edges only pairs of points whose distance is smaller than or equal to $\\alpha$.\n",
    "\n",
    "In other words, it corresponds to the [1-skeleton](https://en.wikipedia.org/wiki/N-skeleton) of the point cloud, with upper-bounded edge length. In GUDHI, this is performed via the `RipsComplex()` function (see the [Documentation](http://gudhi.gforge.inria.fr/python/latest/rips_complex_user.html) for details on the syntax):"
   ]
  },
  {
   "cell_type": "code",
   "execution_count": 13,
   "id": "19924f9b",
   "metadata": {},
   "outputs": [],
   "source": [
    "skeleton = gd.RipsComplex(points = data_A_sample, max_edge_length = 0.3)"
   ]
  },
  {
   "cell_type": "markdown",
   "id": "1af46b61",
   "metadata": {},
   "source": [
    "The `max_edge_length` parameter is the maximal diameter: only edges of length smaller than or equal to this value are included in the 1-skeleton.\n",
    "\n",
    "From the $\\alpha$-*truncated* 1-skeleton, it is then possible to add higher dimensional simplices to the simplicial complex, subject to the condition that all their faces are already in the complex. Their filtration value is then defined as the maximum filtration value of its faces which matches their diameter by design. This process necessarily yields the desired $\\alpha$-Rips complex since filtration values can never exceeds $\\alpha$ in this way. \n",
    "\n",
    "In practice, one should define a maximal dimension of simplicies to be added to the Rips complex for computational reasons. In GUDHI, this is achieved through the `create_simplex_tree()` method of the `RipsComplex` class which takes the argument `max_dimension` to limit the tree:"
   ]
  },
  {
   "cell_type": "code",
   "execution_count": 14,
   "id": "af6306ff",
   "metadata": {},
   "outputs": [],
   "source": [
    "Rips_simplex_tree_sample = skeleton.create_simplex_tree(max_dimension = 3) "
   ]
  },
  {
   "cell_type": "code",
   "execution_count": 15,
   "id": "ca2f0e5c",
   "metadata": {},
   "outputs": [
    {
     "data": {
      "text/plain": [
       "3"
      ]
     },
     "execution_count": 15,
     "metadata": {},
     "output_type": "execute_result"
    }
   ],
   "source": [
    "Rips_simplex_tree_sample.dimension()"
   ]
  },
  {
   "cell_type": "code",
   "execution_count": 16,
   "id": "d298d5e0",
   "metadata": {},
   "outputs": [
    {
     "data": {
      "text/plain": [
       "200"
      ]
     },
     "execution_count": 16,
     "metadata": {},
     "output_type": "execute_result"
    }
   ],
   "source": [
    "Rips_simplex_tree_sample.num_vertices()"
   ]
  },
  {
   "cell_type": "code",
   "execution_count": 17,
   "id": "920a4133",
   "metadata": {},
   "outputs": [
    {
     "data": {
      "text/plain": [
       "159960"
      ]
     },
     "execution_count": 17,
     "metadata": {},
     "output_type": "execute_result"
    }
   ],
   "source": [
    "Rips_simplex_tree_sample.num_simplices()"
   ]
  },
  {
   "cell_type": "markdown",
   "id": "166a5846",
   "metadata": {},
   "source": [
    "## Betti numbers for a Rips-complex"
   ]
  },
  {
   "cell_type": "code",
   "execution_count": 18,
   "id": "3c3fff21",
   "metadata": {},
   "outputs": [
    {
     "data": {
      "text/plain": [
       "[10, 5, 0]"
      ]
     },
     "execution_count": 18,
     "metadata": {},
     "output_type": "execute_result"
    }
   ],
   "source": [
    "Rips_simplex_tree_sample.compute_persistence()\n",
    "Rips_simplex_tree_sample.betti_numbers()"
   ]
  },
  {
   "cell_type": "markdown",
   "id": "8c3f6d48",
   "metadata": {},
   "source": [
    "# Reading the HDF5 data"
   ]
  },
  {
   "cell_type": "code",
   "execution_count": 19,
   "id": "b755f267",
   "metadata": {},
   "outputs": [
    {
     "name": "stdout",
     "output_type": "stream",
     "text": [
      "Dataset <HDF5 group \"/PS\" (3 members)>\n"
     ]
    },
    {
     "data": {
      "text/plain": [
       "(array([[[1.2747257 , 1.29178929, 1.30603277, ..., 1.24590163,\n",
       "          1.24957215, 1.25957265],\n",
       "         [1.26573187, 1.28182081, 1.29929004, ..., 1.24762164,\n",
       "          1.2478959 , 1.25388209],\n",
       "         [1.25454757, 1.26774257, 1.28464133, ..., 1.24498602,\n",
       "          1.24378037, 1.2464381 ],\n",
       "         ...,\n",
       "         [1.25994071, 1.25804034, 1.25482051, ..., 1.22722243,\n",
       "          1.24217525, 1.2546933 ],\n",
       "         [1.27639266, 1.28227938, 1.28142876, ..., 1.23474553,\n",
       "          1.24761837, 1.26337922],\n",
       "         [1.2797349 , 1.29338325, 1.30027598, ..., 1.24115125,\n",
       "          1.2494743 , 1.26345994]],\n",
       " \n",
       "        [[1.24840583, 1.26549499, 1.28049232, ..., 1.2209193 ,\n",
       "          1.22399056, 1.23359068],\n",
       "         [1.23913787, 1.25490595, 1.27245332, ..., 1.2227895 ,\n",
       "          1.22214411, 1.22765756],\n",
       "         [1.22771113, 1.24057631, 1.25716867, ..., 1.22059237,\n",
       "          1.21804633, 1.21996886],\n",
       "         ...,\n",
       "         [1.23705564, 1.2364141 , 1.23398761, ..., 1.20282475,\n",
       "          1.21765178, 1.23066978],\n",
       "         [1.25186828, 1.25898416, 1.25943122, ..., 1.21006155,\n",
       "          1.2225711 , 1.23826257],\n",
       "         [1.25402755, 1.26835158, 1.27653731, ..., 1.21626233,\n",
       "          1.22413749, 1.23777001]],\n",
       " \n",
       "        [[1.22163798, 1.23877727, 1.25454097, ..., 1.19511933,\n",
       "          1.19775209, 1.20708103],\n",
       "         [1.21213535, 1.22765063, 1.24528677, ..., 1.19711291,\n",
       "          1.19571762, 1.20090578],\n",
       "         [1.20045634, 1.21311036, 1.22945596, ..., 1.19534606,\n",
       "          1.19161127, 1.19294229],\n",
       "         ...,\n",
       "         [1.21365773, 1.21439688, 1.21283833, ..., 1.17765204,\n",
       "          1.19243995, 1.20603175],\n",
       "         [1.22679088, 1.23521729, 1.23706812, ..., 1.18462619,\n",
       "          1.19686837, 1.21254273],\n",
       "         [1.22780192, 1.24283256, 1.25237572, ..., 1.19059812,\n",
       "          1.19815225, 1.21151623]],\n",
       " \n",
       "        ...,\n",
       " \n",
       "        [[1.34846124, 1.36574246, 1.3781151 , ..., 1.31361046,\n",
       "          1.32002859, 1.3318884 ],\n",
       "         [1.34055009, 1.35795099, 1.37539305, ..., 1.31458273,\n",
       "          1.3187083 , 1.32699551],\n",
       "         [1.33017821, 1.34492323, 1.36300933, ..., 1.31051267,\n",
       "          1.31433893, 1.32017225],\n",
       "         ...,\n",
       "         [1.32393344, 1.31917214, 1.3139812 , ..., 1.2933969 ,\n",
       "          1.30937077, 1.32115288],\n",
       "         [1.34476595, 1.3477937 , 1.34380378, ..., 1.30185044,\n",
       "          1.31644605, 1.33290487],\n",
       "         [1.3514808 , 1.36359847, 1.36728029, ..., 1.30884531,\n",
       "          1.31925856, 1.33476623]],\n",
       " \n",
       "        [[1.32499881, 1.34214289, 1.35504216, ..., 1.29248194,\n",
       "          1.29782577, 1.30896309],\n",
       "         [1.31669247, 1.33360002, 1.35099735, ..., 1.29376299,\n",
       "          1.29642042, 1.30379529],\n",
       "         [1.30602511, 1.32017162, 1.33781909, ..., 1.29019837,\n",
       "          1.29217405, 1.29677921],\n",
       "         ...,\n",
       "         [1.30353609, 1.29956333, 1.29496287, ..., 1.27272997,\n",
       "          1.28824766, 1.30011977],\n",
       "         [1.32302673, 1.3268357 , 1.32375106, ..., 1.28088453,\n",
       "          1.29479478, 1.31091899],\n",
       "         [1.32867822, 1.34119138, 1.34580305, ..., 1.28768254,\n",
       "          1.29727133, 1.31219095]],\n",
       " \n",
       "        [[1.3003405 , 1.31741714, 1.33095043, ..., 1.26983378,\n",
       "          1.27426218, 1.28477852],\n",
       "         [1.29166844, 1.30813835, 1.32555157, ..., 1.2713619 ,\n",
       "          1.27273544, 1.27934255],\n",
       "         [1.2807325 , 1.29435916, 1.31161134, ..., 1.26827286,\n",
       "          1.26857157, 1.2721202 ],\n",
       "         ...,\n",
       "         [1.28215367, 1.27913753, 1.27519344, ..., 1.2506015 ,\n",
       "          1.26578097, 1.27790665],\n",
       "         [1.30017408, 1.30494697, 1.30291446, ..., 1.25843568,\n",
       "          1.27177306, 1.28767124],\n",
       "         [1.30469216, 1.31772627, 1.32341816, ..., 1.26503676,\n",
       "          1.27393048, 1.28834522]]]),\n",
       " array([[[1.1270615 , 1.17115657, 1.20510699, ..., 0.97406012,\n",
       "          1.02449726, 1.07657914],\n",
       "         [1.11268053, 1.15885746, 1.19839197, ..., 0.96994635,\n",
       "          1.01624113, 1.0639955 ],\n",
       "         [1.0992571 , 1.14454126, 1.18634841, ..., 0.96632886,\n",
       "          1.01045459, 1.05402728],\n",
       "         ...,\n",
       "         [1.14472103, 1.16926081, 1.19031696, ..., 1.00497173,\n",
       "          1.06311553, 1.11044018],\n",
       "         [1.14630503, 1.176757  , 1.19794856, ..., 0.99126793,\n",
       "          1.05004229, 1.10349598],\n",
       "         [1.13958649, 1.17791943, 1.20447549, ..., 0.98075998,\n",
       "          1.03604093, 1.09073136]],\n",
       " \n",
       "        [[1.12251125, 1.16605216, 1.20034841, ..., 0.9723072 ,\n",
       "          1.02176617, 1.07296181],\n",
       "         [1.10846458, 1.15373631, 1.19277187, ..., 0.96862171,\n",
       "          1.01366701, 1.06061833],\n",
       "         [1.09531934, 1.13976094, 1.18065676, ..., 0.96574555,\n",
       "          1.00817958, 1.05078703],\n",
       "         ...,\n",
       "         [1.14232238, 1.16866186, 1.19153466, ..., 1.00245057,\n",
       "          1.05970491, 1.10697301],\n",
       "         [1.14238606, 1.17399698, 1.19700735, ..., 0.98906951,\n",
       "          1.04678896, 1.09948367],\n",
       "         [1.13500586, 1.17356841, 1.20138496, ..., 0.97878174,\n",
       "          1.03309542, 1.0868071 ]],\n",
       " \n",
       "        [[1.11558294, 1.15874151, 1.19348754, ..., 0.967646  ,\n",
       "          1.01629441, 1.06677509],\n",
       "         [1.10170012, 1.14625643, 1.18493552, ..., 0.96423317,\n",
       "          1.0082012 , 1.05451035],\n",
       "         [1.0886593 , 1.13244993, 1.17261908, ..., 0.96195877,\n",
       "          1.00286954, 1.04466396],\n",
       "         ...,\n",
       "         [1.13800946, 1.16618447, 1.19087397, ..., 0.99756139,\n",
       "          1.0541161 , 1.10149271],\n",
       "         [1.136421  , 1.1692817 , 1.19414587, ..., 0.98430046,\n",
       "          1.04114588, 1.09327175],\n",
       "         [1.12821836, 1.16714855, 1.19629545, ..., 0.9740576 ,\n",
       "          1.02757401, 1.08049271]],\n",
       " \n",
       "        ...,\n",
       " \n",
       "        [[1.12545759, 1.17247388, 1.20652036, ..., 0.96113308,\n",
       "          1.01547854, 1.07110363],\n",
       "         [1.10911384, 1.15911076, 1.20129067, ..., 0.95479636,\n",
       "          1.0059182 , 1.05698989],\n",
       "         [1.09406001, 1.14283285, 1.18845555, ..., 0.94816243,\n",
       "          0.99838587, 1.04585069],\n",
       "         ...,\n",
       "         [1.14060871, 1.16020327, 1.17576329, ..., 0.99744315,\n",
       "          1.05954463, 1.10845314],\n",
       "         [1.14543202, 1.17335932, 1.18954439, ..., 0.98160045,\n",
       "          1.04454429, 1.10157692],\n",
       "         [1.13930717, 1.17819502, 1.20186799, ..., 0.96945133,\n",
       "          1.02853049, 1.08720792]],\n",
       " \n",
       "        [[1.12862298, 1.17443663, 1.20821314, ..., 0.96852587,\n",
       "          1.02141478, 1.07572896],\n",
       "         [1.11308863, 1.16163418, 1.20271175, ..., 0.96308277,\n",
       "          1.01241918, 1.06224523],\n",
       "         [1.09868801, 1.14615869, 1.19033119, ..., 0.95757823,\n",
       "          1.00560712, 1.05160859],\n",
       "         ...,\n",
       "         [1.14383365, 1.16496798, 1.18237302, ..., 1.00254723,\n",
       "          1.06310434, 1.11120556],\n",
       "         [1.14785121, 1.17641691, 1.19417573, ..., 0.98760166,\n",
       "          1.04900108, 1.10460942],\n",
       "         [1.14180514, 1.18026075, 1.20470039, ..., 0.97615336,\n",
       "          1.03383379, 1.09101646]],\n",
       " \n",
       "        [[1.12913016, 1.17397571, 1.20773556, ..., 0.97282096,\n",
       "          1.02440339, 1.07753014],\n",
       "         [1.11425168, 1.16152134, 1.201726  , ..., 0.96812085,\n",
       "          1.01584582, 1.06456138],\n",
       "         [1.1004016 , 1.14670222, 1.18960191, ..., 0.96362528,\n",
       "          1.0096172 , 1.05431965],\n",
       "         ...,\n",
       "         [1.14521574, 1.16801153, 1.18724775, ..., 1.00503206,\n",
       "          1.06427204, 1.1118596 ],\n",
       "         [1.14813604, 1.17755923, 1.19699346, ..., 0.99080433,\n",
       "          1.05080862, 1.10522807],\n",
       "         [1.1418772 , 1.18016102, 1.20557589, ..., 0.97990676,\n",
       "          1.03631478, 1.09216464]]]),\n",
       " array([[[-0.28201072, -0.21718892, -0.16387339, ..., -0.38440131,\n",
       "          -0.36897945, -0.33527065],\n",
       "         [-0.34297944, -0.28731604, -0.22289854, ..., -0.40995857,\n",
       "          -0.40228357, -0.38141297],\n",
       "         [-0.39184649, -0.3489119 , -0.2912452 , ..., -0.43487523,\n",
       "          -0.42902294, -0.4176742 ],\n",
       "         ...,\n",
       "         [-0.12149422, -0.16898465, -0.25266573, ..., -0.2599879 ,\n",
       "          -0.19641592, -0.13693704],\n",
       "         [-0.14646401, -0.13199716, -0.17761219, ..., -0.31427398,\n",
       "          -0.26849409, -0.20414751],\n",
       "         [-0.21090298, -0.15503022, -0.14222591, ..., -0.35369181,\n",
       "          -0.32586924, -0.27611943]],\n",
       " \n",
       "        [[-0.28477218, -0.22355523, -0.17195267, ..., -0.37968877,\n",
       "          -0.36583135, -0.3344983 ],\n",
       "         [-0.34310309, -0.29088063, -0.22988127, ..., -0.40423505,\n",
       "          -0.3981618 , -0.37906646],\n",
       "         [-0.39013462, -0.34985129, -0.29568934, ..., -0.42828665,\n",
       "          -0.42395027, -0.41414704],\n",
       "         ...,\n",
       "         [-0.12789946, -0.17358152, -0.25698162, ..., -0.25972712,\n",
       "          -0.20030906, -0.14357303],\n",
       "         [-0.15358297, -0.13865936, -0.1824031 , ..., -0.31174065,\n",
       "          -0.26936205, -0.20893385],\n",
       "         [-0.21648837, -0.16274976, -0.14918   , ..., -0.34994207,\n",
       "          -0.32423961, -0.27787082]],\n",
       " \n",
       "        [[-0.28749351, -0.22986819, -0.17983109, ..., -0.37445599,\n",
       "          -0.36239532, -0.33361033],\n",
       "         [-0.34316576, -0.29442027, -0.23679404, ..., -0.39786717,\n",
       "          -0.39360233, -0.37651004],\n",
       "         [-0.38828241, -0.35076287, -0.30011037, ..., -0.42096558,\n",
       "          -0.41829273, -0.41025783],\n",
       "         ...,\n",
       "         [-0.13371401, -0.17701807, -0.25976393, ..., -0.25942827,\n",
       "          -0.20421008, -0.15005082],\n",
       "         [-0.16053412, -0.14475561, -0.1860891 , ..., -0.30903347,\n",
       "          -0.27018052, -0.21369858],\n",
       "         [-0.2220337 , -0.17028744, -0.15558091, ..., -0.3458454 ,\n",
       "          -0.32244819, -0.27956739]],\n",
       " \n",
       "        ...,\n",
       " \n",
       "        [[-0.27475078, -0.19921225, -0.13933828, ..., -0.3952498 ,\n",
       "          -0.37676093, -0.33752814],\n",
       "         [-0.34292093, -0.2777498 , -0.20292446, ..., -0.42292712,\n",
       "          -0.41180231, -0.38728805],\n",
       "         [-0.39639155, -0.3467448 , -0.27906753, ..., -0.44985079,\n",
       "          -0.44048517, -0.42599342],\n",
       "         ...,\n",
       "         [-0.09892656, -0.14793746, -0.23072905, ..., -0.26167442,\n",
       "          -0.18634137, -0.11721496],\n",
       "         [-0.12508254, -0.10869801, -0.1563234 , ..., -0.32133512,\n",
       "          -0.26688314, -0.19122107],\n",
       "         [-0.19539156, -0.13173798, -0.11815998, ..., -0.3629478 ,\n",
       "          -0.33045133, -0.27184783]],\n",
       " \n",
       "        [[-0.27686873, -0.20486678, -0.14746612, ..., -0.39220361,\n",
       "          -0.37444358, -0.3367227 ],\n",
       "         [-0.34282664, -0.28062309, -0.20927166, ..., -0.4193426 ,\n",
       "          -0.40913435, -0.38552309],\n",
       "         [-0.39496546, -0.34728437, -0.28279857, ..., -0.44570862,\n",
       "          -0.43732953, -0.42362269],\n",
       "         ...,\n",
       "         [-0.10696324, -0.15616611, -0.23949759, ..., -0.26085091,\n",
       "          -0.18927269, -0.12362896],\n",
       "         [-0.13210006, -0.11699176, -0.16458479, ..., -0.31903162,\n",
       "          -0.26713169, -0.19512833],\n",
       "         [-0.20019654, -0.13941917, -0.12669414, ..., -0.3601977 ,\n",
       "          -0.32891742, -0.27297474]],\n",
       " \n",
       "        [[-0.27933307, -0.21091026, -0.15567927, ..., -0.38857901,\n",
       "          -0.37184842, -0.33599049],\n",
       "         [-0.34286575, -0.283854  , -0.21598019, ..., -0.41500652,\n",
       "          -0.40595003, -0.38356364],\n",
       "         [-0.39345087, -0.34802967, -0.28690344, ..., -0.44069803,\n",
       "          -0.43349351, -0.42083855],\n",
       "         ...,\n",
       "         [-0.11450522, -0.16318548, -0.24682709, ..., -0.26032464,\n",
       "          -0.19268429, -0.13024853],\n",
       "         [-0.13926802, -0.12476992, -0.17167997, ..., -0.31668912,\n",
       "          -0.26770803, -0.19949201],\n",
       "         [-0.2054211 , -0.14722031, -0.13472536, ..., -0.35710909,\n",
       "          -0.32740689, -0.27444238]]]))"
      ]
     },
     "execution_count": 19,
     "metadata": {},
     "output_type": "execute_result"
    }
   ],
   "source": [
    "import h5py\n",
    "import numpy as np\n",
    "\n",
    "filename = \"datasets/highrotminhel/velocity.800000.h5\"\n",
    "hf = h5py.File(filename, 'r')\n",
    "hf.keys()\n",
    "\n",
    "datasets = hf['PS']\n",
    "print(\"Dataset \" + str(datasets))\n",
    "\n",
    "vx = hf.get('PS/vx')\n",
    "vx = np.array(vx)\n",
    "\n",
    "vy = hf.get('PS/vy')\n",
    "vy = np.array(vy)\n",
    "\n",
    "vz = hf.get('PS/vz')\n",
    "vz = np.array(vz)\n",
    "\n",
    "vx, vy, vz\n",
    "# vx.shape"
   ]
  },
  {
   "cell_type": "code",
   "execution_count": 20,
   "id": "aefad3fd",
   "metadata": {},
   "outputs": [
    {
     "ename": "NameError",
     "evalue": "name 'DefineVectorExpression' is not defined",
     "output_type": "error",
     "traceback": [
      "\u001b[0;31m---------------------------------------------------------------------------\u001b[0m",
      "\u001b[0;31mNameError\u001b[0m                                 Traceback (most recent call last)",
      "\u001b[0;32m/tmp/ipykernel_12597/1642438359.py\u001b[0m in \u001b[0;36m<module>\u001b[0;34m\u001b[0m\n\u001b[1;32m      1\u001b[0m \u001b[0;32mimport\u001b[0m \u001b[0mvisit\u001b[0m\u001b[0;34m\u001b[0m\u001b[0;34m\u001b[0m\u001b[0m\n\u001b[0;32m----> 2\u001b[0;31m \u001b[0mDefineVectorExpression\u001b[0m\u001b[0;34m(\u001b[0m\u001b[0;34m\"v\"\u001b[0m\u001b[0;34m,\u001b[0m\u001b[0;34m\"{<PS/vx>,<PS/vy>,<PS/vz>}\"\u001b[0m\u001b[0;34m)\u001b[0m\u001b[0;34m\u001b[0m\u001b[0;34m\u001b[0m\u001b[0m\n\u001b[0m",
      "\u001b[0;31mNameError\u001b[0m: name 'DefineVectorExpression' is not defined"
     ]
    }
   ],
   "source": [
    "import visit\n",
    "DefineVectorExpression(\"v\",\"{<PS/vx>,<PS/vy>,<PS/vz>}\")"
   ]
  },
  {
   "cell_type": "markdown",
   "id": "ea7fbf2d",
   "metadata": {},
   "source": [
    "## Plotting the data"
   ]
  },
  {
   "cell_type": "code",
   "execution_count": null,
   "id": "e8f45a5a",
   "metadata": {},
   "outputs": [],
   "source": [
    "vx = hf.get('PS/vx')\n",
    "vx = np.array(vx)\n",
    "\n",
    "vy = hf.get('PS/vy')\n",
    "vy = np.array(vy)\n",
    "\n",
    "vz = hf.get('PS/vz')\n",
    "vz = np.array(vz)\n",
    "\n",
    "vz.shape\n",
    "\n",
    "fig = plt.figure()\n",
    "\n",
    "ax = fig.add_subplot(111, projection = '3d')\n",
    "ax.set_xlabel('vx')\n",
    "ax.set_ylabel('vy')\n",
    "ax.set_zlabel('vz')\n",
    "ax.set_title(\"highrotminhel/velocity.800000.h5 plot\")\n",
    "ax.scatter(vx[:, 0], vy[:, 1], vz[:, 2],  marker='.');"
   ]
  },
  {
   "cell_type": "markdown",
   "id": "57f018b1",
   "metadata": {},
   "source": [
    "## Computing the absolute of the curl of a vector field\n",
    "\n",
    "Suppose F(x,y,z) = y^2zi - xyj + z^2k, then:\n",
    "    \n",
    "    y would be R[1], x is R[0] and z is R[2]\n",
    "    the unit vectors i, j, k of the 3 axes, would be respectively R.x, R.y, R.z.\n"
   ]
  },
  {
   "cell_type": "code",
   "execution_count": null,
   "id": "ae964fa5",
   "metadata": {},
   "outputs": [],
   "source": [
    "from sympy.physics.vector import ReferenceFrame\n",
    "from sympy.physics.vector import curl\n",
    "R = ReferenceFrame('R')\n",
    "\n",
    "F = R[1]**2 * R[2] * R.x - R[0]*R[1] * R.y + R[2]**2 * R.z\n",
    "\n",
    "G = curl(F, R) \n",
    "G"
   ]
  },
  {
   "cell_type": "code",
   "execution_count": null,
   "id": "f4c3bce6",
   "metadata": {},
   "outputs": [],
   "source": [
    "from mpl_toolkits.mplot3d import axes3d\n",
    "import matplotlib.pyplot as plt\n",
    "import numpy as np\n",
    "\n",
    "fig = plt.figure()\n",
    "ax = fig.gca(projection='3d')\n",
    "\n",
    "x, y, z = np.meshgrid(np.arange(-0.8, 1, 0.2),\n",
    "                      np.arange(-0.8, 1, 0.2),\n",
    "                      np.arange(-0.8, 1, 0.8))\n",
    "\n",
    "u = 0\n",
    "v = y**2\n",
    "w = -2*y*z - y\n",
    "\n",
    "ax.quiver(x, y, z, u, v, w, length=0.1)\n",
    "\n",
    "plt.show()"
   ]
  }
 ],
 "metadata": {
  "kernelspec": {
   "display_name": "Python 3 (ipykernel)",
   "language": "python",
   "name": "python3"
  },
  "language_info": {
   "codemirror_mode": {
    "name": "ipython",
    "version": 3
   },
   "file_extension": ".py",
   "mimetype": "text/x-python",
   "name": "python",
   "nbconvert_exporter": "python",
   "pygments_lexer": "ipython3",
   "version": "3.8.10"
  }
 },
 "nbformat": 4,
 "nbformat_minor": 5
}
